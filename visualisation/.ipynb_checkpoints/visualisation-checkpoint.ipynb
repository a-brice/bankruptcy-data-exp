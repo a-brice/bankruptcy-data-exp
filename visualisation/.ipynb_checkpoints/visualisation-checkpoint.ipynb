{
 "cells": [
  {
   "cell_type": "markdown",
   "id": "f8f0c243",
   "metadata": {},
   "source": [
    "# Bankruptcy dataset visualisation"
   ]
  },
  {
   "cell_type": "markdown",
   "id": "ccb42efa",
   "metadata": {},
   "source": [
    "The goal of this notebook is to explore by different ways the companies' bankruptcy data, analyse the general behavior of data and all form of correlation between the variables and finally to know what variables are useless and have to be ejected."
   ]
  },
  {
   "cell_type": "markdown",
   "id": "689a343b",
   "metadata": {},
   "source": [
    "## Libraries and dataset import"
   ]
  },
  {
   "cell_type": "code",
   "execution_count": 1,
   "id": "44192aa1",
   "metadata": {},
   "outputs": [],
   "source": [
    "import numpy as np\n",
    "import pandas as pd\n",
    "from pathlib import Path\n",
    "import matplotlib.pyplot as plt\n",
    "import seaborn as sns\n",
    "import warnings\n",
    "warnings.filterwarnings(\"ignore\")"
   ]
  },
  {
   "cell_type": "code",
   "execution_count": 2,
   "id": "3de92cce",
   "metadata": {},
   "outputs": [
    {
     "data": {
      "text/plain": [
       "[WindowsPath('../data/extension/csv/1year.csv'),\n",
       " WindowsPath('../data/extension/csv/2year.csv'),\n",
       " WindowsPath('../data/extension/csv/3year.csv'),\n",
       " WindowsPath('../data/extension/csv/4year.csv'),\n",
       " WindowsPath('../data/extension/csv/5year.csv')]"
      ]
     },
     "execution_count": 2,
     "metadata": {},
     "output_type": "execute_result"
    }
   ],
   "source": [
    "dirpath = Path('../data/extension/csv')\n",
    "lstfile = list(dirpath.glob('*year.csv'))\n",
    "lstfile"
   ]
  },
  {
   "cell_type": "code",
   "execution_count": 3,
   "id": "672ae156",
   "metadata": {},
   "outputs": [
    {
     "data": {
      "text/plain": [
       "{'1year': (7026, 65),\n",
       " '2year': (10172, 65),\n",
       " '3year': (10502, 65),\n",
       " '4year': (9791, 65),\n",
       " '5year': (5909, 65)}"
      ]
     },
     "execution_count": 3,
     "metadata": {},
     "output_type": "execute_result"
    }
   ],
   "source": [
    "dataset = {i.stem:pd.read_csv(i) for i in lstfile}\n",
    "shapes = {x:y.shape for x, y in dataset.items()}\n",
    "shapes"
   ]
  },
  {
   "cell_type": "markdown",
   "id": "80a025fe",
   "metadata": {},
   "source": [
    "## Dataset study"
   ]
  },
  {
   "cell_type": "markdown",
   "id": "9e1f2aa7",
   "metadata": {},
   "source": [
    "#### Data company repartition"
   ]
  },
  {
   "cell_type": "code",
   "execution_count": 4,
   "id": "49aea6e1",
   "metadata": {
    "scrolled": false
   },
   "outputs": [
    {
     "data": {
      "image/png": "[encoded data removed]",
      "text/plain": [
       "<Figure size 864x432 with 1 Axes>"
      ]
     },
     "metadata": {
      "needs_background": "light"
     },
     "output_type": "display_data"
    }
   ],
   "source": [
    "plt.figure(figsize=(12,6))\n",
    "plt.title('Total number of companies in each dataset', fontweight='bold')\n",
    "ax = plt.bar(shapes.keys(), [s[0] for s in shapes.values()], \n",
    "             color=['darkred' if s[0] < 10000 else 'darkblue' for  s in shapes.values()])"
   ]
  },
  {
   "cell_type": "code",
   "execution_count": 5,
   "id": "1560575d",
   "metadata": {},
   "outputs": [
    {
     "data": {
      "text/html": [
       "<div>\n",
       "<style scoped>\n",
       "    .dataframe tbody tr th:only-of-type {\n",
       "        vertical-align: middle;\n",
       "    }\n",
       "\n",
       "    .dataframe tbody tr th {\n",
       "        vertical-align: top;\n",
       "    }\n",
       "\n",
       "    .dataframe thead th {\n",
       "        text-align: right;\n",
       "    }\n",
       "</style>\n",
       "<table border=\"1\" class=\"dataframe\">\n",
       "  <thead>\n",
       "    <tr style=\"text-align: right;\">\n",
       "      <th></th>\n",
       "      <th>1year</th>\n",
       "      <th>2year</th>\n",
       "      <th>3year</th>\n",
       "      <th>4year</th>\n",
       "      <th>5year</th>\n",
       "    </tr>\n",
       "  </thead>\n",
       "  <tbody>\n",
       "    <tr>\n",
       "      <th>no bankrupted</th>\n",
       "      <td>6755</td>\n",
       "      <td>9772</td>\n",
       "      <td>10007</td>\n",
       "      <td>9276</td>\n",
       "      <td>5499</td>\n",
       "    </tr>\n",
       "    <tr>\n",
       "      <th>bankrupted</th>\n",
       "      <td>271</td>\n",
       "      <td>400</td>\n",
       "      <td>495</td>\n",
       "      <td>515</td>\n",
       "      <td>410</td>\n",
       "    </tr>\n",
       "  </tbody>\n",
       "</table>\n",
       "</div>"
      ],
      "text/plain": [
       "               1year  2year  3year  4year  5year\n",
       "no bankrupted   6755   9772  10007   9276   5499\n",
       "bankrupted       271    400    495    515    410"
      ]
     },
     "execution_count": 5,
     "metadata": {},
     "output_type": "execute_result"
    }
   ],
   "source": [
    "bankruptcy = pd.concat([x.X65.value_counts() for x in dataset.values()], axis=1, ignore_index=True)\n",
    "bankruptcy.columns = dataset.keys()\n",
    "bankruptcy.index = ['no bankrupted', 'bankrupted']\n",
    "bankruptcy"
   ]
  },
  {
   "cell_type": "code",
   "execution_count": 6,
   "id": "3e8429af",
   "metadata": {
    "scrolled": false
   },
   "outputs": [
    {
     "data": {
      "image/png": "[encoded data removed]",
      "text/plain": [
       "<Figure size 864x432 with 1 Axes>"
      ]
     },
     "metadata": {
      "needs_background": "light"
     },
     "output_type": "display_data"
    }
   ],
   "source": [
    "ax = bankruptcy.T.plot.bar(log=True, color=['lime','crimson'], figsize=(12,6), title='Bankrupted companies')\n",
    "for p in ax.patches:\n",
    "    ax.annotate(p.get_height(), (p.get_x() + p.get_width() / 2., 10), ha = 'center', va = 'center')"
   ]
  },
  {
   "cell_type": "markdown",
   "id": "13e21d64",
   "metadata": {},
   "source": [
    "### How many missing values ?"
   ]
  },
  {
   "cell_type": "markdown",
   "id": "69218118",
   "metadata": {},
   "source": [
    "#### For the nth year"
   ]
  },
  {
   "cell_type": "code",
   "execution_count": 100,
   "id": "8884a772",
   "metadata": {},
   "outputs": [],
   "source": [
    "n = 1\n",
    "pd.options.display.max_rows = 100"
   ]
  },
  {
   "cell_type": "markdown",
   "id": "7b87e047",
   "metadata": {},
   "source": [
    "Per variable"
   ]
  },
  {
   "cell_type": "code",
   "execution_count": 166,
   "id": "22630a10",
   "metadata": {
    "scrolled": true
   },
   "outputs": [
    {
     "data": {
      "text/plain": [
       "<AxesSubplot:>"
      ]
     },
     "execution_count": 166,
     "metadata": {},
     "output_type": "execute_result"
    },
    {
     "data": {
      "image/png": "[encoded data removed]",
      "text/plain": [
       "<Figure size 1080x360 with 1 Axes>"
      ]
     },
     "metadata": {
      "needs_background": "light"
     },
     "output_type": "display_data"
    }
   ],
   "source": [
    "missing = (dataset[f'{n}year'] == '?')\n",
    "color = ['r' if x > 100 else ('orange' if x > 10 else 'limegreen') for x in missing.sum(axis=0)]\n",
    "missing.sum(axis=0).plot(kind='bar', figsize=(15,5), log=True, color=color)"
   ]
  },
  {
   "cell_type": "code",
   "execution_count": 167,
   "id": "909600d8",
   "metadata": {},
   "outputs": [
    {
     "data": {
      "text/html": [
       "<style  type=\"text/css\" >\n",
       "#T_e63ea_row0_col0,#T_e63ea_row1_col0{\n",
       "            background-color:  #08306b;\n",
       "            color:  #f1f1f1;\n",
       "        }#T_e63ea_row2_col0{\n",
       "            background-color:  #3d8dc4;\n",
       "            color:  #000000;\n",
       "        }#T_e63ea_row3_col0{\n",
       "            background-color:  #b3d3e8;\n",
       "            color:  #000000;\n",
       "        }#T_e63ea_row4_col0{\n",
       "            background-color:  #b4d3e9;\n",
       "            color:  #000000;\n",
       "        }#T_e63ea_row5_col0{\n",
       "            background-color:  #bad6eb;\n",
       "            color:  #000000;\n",
       "        }#T_e63ea_row6_col0{\n",
       "            background-color:  #cde0f1;\n",
       "            color:  #000000;\n",
       "        }#T_e63ea_row7_col0,#T_e63ea_row8_col0{\n",
       "            background-color:  #deebf7;\n",
       "            color:  #000000;\n",
       "        }#T_e63ea_row9_col0,#T_e63ea_row10_col0,#T_e63ea_row11_col0,#T_e63ea_row12_col0{\n",
       "            background-color:  #dfecf7;\n",
       "            color:  #000000;\n",
       "        }#T_e63ea_row13_col0,#T_e63ea_row14_col0,#T_e63ea_row15_col0,#T_e63ea_row16_col0,#T_e63ea_row17_col0,#T_e63ea_row18_col0{\n",
       "            background-color:  #e1edf8;\n",
       "            color:  #000000;\n",
       "        }#T_e63ea_row19_col0,#T_e63ea_row20_col0{\n",
       "            background-color:  #e2edf8;\n",
       "            color:  #000000;\n",
       "        }#T_e63ea_row21_col0,#T_e63ea_row22_col0,#T_e63ea_row23_col0,#T_e63ea_row24_col0,#T_e63ea_row25_col0,#T_e63ea_row26_col0{\n",
       "            background-color:  #e3eef9;\n",
       "            color:  #000000;\n",
       "        }#T_e63ea_row27_col0{\n",
       "            background-color:  #e4eff9;\n",
       "            color:  #000000;\n",
       "        }#T_e63ea_row28_col0{\n",
       "            background-color:  #eaf2fb;\n",
       "            color:  #000000;\n",
       "        }#T_e63ea_row29_col0,#T_e63ea_row30_col0,#T_e63ea_row31_col0,#T_e63ea_row32_col0,#T_e63ea_row33_col0,#T_e63ea_row34_col0,#T_e63ea_row35_col0,#T_e63ea_row36_col0,#T_e63ea_row37_col0,#T_e63ea_row38_col0,#T_e63ea_row39_col0,#T_e63ea_row40_col0,#T_e63ea_row41_col0,#T_e63ea_row42_col0,#T_e63ea_row43_col0,#T_e63ea_row44_col0{\n",
       "            background-color:  #ebf3fb;\n",
       "            color:  #000000;\n",
       "        }#T_e63ea_row45_col0,#T_e63ea_row46_col0,#T_e63ea_row47_col0,#T_e63ea_row48_col0{\n",
       "            background-color:  #ecf4fb;\n",
       "            color:  #000000;\n",
       "        }#T_e63ea_row49_col0,#T_e63ea_row50_col0,#T_e63ea_row51_col0,#T_e63ea_row52_col0,#T_e63ea_row53_col0,#T_e63ea_row54_col0,#T_e63ea_row55_col0,#T_e63ea_row56_col0,#T_e63ea_row57_col0,#T_e63ea_row58_col0,#T_e63ea_row59_col0,#T_e63ea_row60_col0,#T_e63ea_row61_col0,#T_e63ea_row62_col0,#T_e63ea_row63_col0,#T_e63ea_row64_col0{\n",
       "            background-color:  #edf4fc;\n",
       "            color:  #000000;\n",
       "        }</style><table id=\"T_e63ea_\" ><thead>    <tr>        <th class=\"blank level0\" ></th>        <th class=\"col_heading level0 col0\" >missing values</th>    </tr></thead><tbody>\n",
       "                <tr>\n",
       "                        <th id=\"T_e63ea_level0_row0\" class=\"row_heading level0 row0\" >X37</th>\n",
       "                        <td id=\"T_e63ea_row0_col0\" class=\"data row0 col0\" >2740</td>\n",
       "            </tr>\n",
       "            <tr>\n",
       "                        <th id=\"T_e63ea_level0_row1\" class=\"row_heading level0 row1\" >X21</th>\n",
       "                        <td id=\"T_e63ea_row1_col0\" class=\"data row1 col0\" >1622</td>\n",
       "            </tr>\n",
       "            <tr>\n",
       "                        <th id=\"T_e63ea_level0_row2\" class=\"row_heading level0 row2\" >X27</th>\n",
       "                        <td id=\"T_e63ea_row2_col0\" class=\"data row2 col0\" >311</td>\n",
       "            </tr>\n",
       "            <tr>\n",
       "                        <th id=\"T_e63ea_level0_row3\" class=\"row_heading level0 row3\" >X60</th>\n",
       "                        <td id=\"T_e63ea_row3_col0\" class=\"data row3 col0\" >135</td>\n",
       "            </tr>\n",
       "            <tr>\n",
       "                        <th id=\"T_e63ea_level0_row4\" class=\"row_heading level0 row4\" >X45</th>\n",
       "                        <td id=\"T_e63ea_row4_col0\" class=\"data row4 col0\" >134</td>\n",
       "            </tr>\n",
       "            <tr>\n",
       "                        <th id=\"T_e63ea_level0_row5\" class=\"row_heading level0 row5\" >X24</th>\n",
       "                        <td id=\"T_e63ea_row5_col0\" class=\"data row5 col0\" >124</td>\n",
       "            </tr>\n",
       "            <tr>\n",
       "                        <th id=\"T_e63ea_level0_row6\" class=\"row_heading level0 row6\" >X41</th>\n",
       "                        <td id=\"T_e63ea_row6_col0\" class=\"data row6 col0\" >84</td>\n",
       "            </tr>\n",
       "            <tr>\n",
       "                        <th id=\"T_e63ea_level0_row7\" class=\"row_heading level0 row7\" >X11</th>\n",
       "                        <td id=\"T_e63ea_row7_col0\" class=\"data row7 col0\" >39</td>\n",
       "            </tr>\n",
       "            <tr>\n",
       "                        <th id=\"T_e63ea_level0_row8\" class=\"row_heading level0 row8\" >X32</th>\n",
       "                        <td id=\"T_e63ea_row8_col0\" class=\"data row8 col0\" >38</td>\n",
       "            </tr>\n",
       "            <tr>\n",
       "                        <th id=\"T_e63ea_level0_row9\" class=\"row_heading level0 row9\" >X28</th>\n",
       "                        <td id=\"T_e63ea_row9_col0\" class=\"data row9 col0\" >34</td>\n",
       "            </tr>\n",
       "            <tr>\n",
       "                        <th id=\"T_e63ea_level0_row10\" class=\"row_heading level0 row10\" >X64</th>\n",
       "                        <td id=\"T_e63ea_row10_col0\" class=\"data row10 col0\" >34</td>\n",
       "            </tr>\n",
       "            <tr>\n",
       "                        <th id=\"T_e63ea_level0_row11\" class=\"row_heading level0 row11\" >X54</th>\n",
       "                        <td id=\"T_e63ea_row11_col0\" class=\"data row11 col0\" >34</td>\n",
       "            </tr>\n",
       "            <tr>\n",
       "                        <th id=\"T_e63ea_level0_row12\" class=\"row_heading level0 row12\" >X53</th>\n",
       "                        <td id=\"T_e63ea_row12_col0\" class=\"data row12 col0\" >34</td>\n",
       "            </tr>\n",
       "            <tr>\n",
       "                        <th id=\"T_e63ea_level0_row13\" class=\"row_heading level0 row13\" >X46</th>\n",
       "                        <td id=\"T_e63ea_row13_col0\" class=\"data row13 col0\" >31</td>\n",
       "            </tr>\n",
       "            <tr>\n",
       "                        <th id=\"T_e63ea_level0_row14\" class=\"row_heading level0 row14\" >X33</th>\n",
       "                        <td id=\"T_e63ea_row14_col0\" class=\"data row14 col0\" >30</td>\n",
       "            </tr>\n",
       "            <tr>\n",
       "                        <th id=\"T_e63ea_level0_row15\" class=\"row_heading level0 row15\" >X40</th>\n",
       "                        <td id=\"T_e63ea_row15_col0\" class=\"data row15 col0\" >30</td>\n",
       "            </tr>\n",
       "            <tr>\n",
       "                        <th id=\"T_e63ea_level0_row16\" class=\"row_heading level0 row16\" >X63</th>\n",
       "                        <td id=\"T_e63ea_row16_col0\" class=\"data row16 col0\" >30</td>\n",
       "            </tr>\n",
       "            <tr>\n",
       "                        <th id=\"T_e63ea_level0_row17\" class=\"row_heading level0 row17\" >X4</th>\n",
       "                        <td id=\"T_e63ea_row17_col0\" class=\"data row17 col0\" >30</td>\n",
       "            </tr>\n",
       "            <tr>\n",
       "                        <th id=\"T_e63ea_level0_row18\" class=\"row_heading level0 row18\" >X12</th>\n",
       "                        <td id=\"T_e63ea_row18_col0\" class=\"data row18 col0\" >30</td>\n",
       "            </tr>\n",
       "            <tr>\n",
       "                        <th id=\"T_e63ea_level0_row19\" class=\"row_heading level0 row19\" >X52</th>\n",
       "                        <td id=\"T_e63ea_row19_col0\" class=\"data row19 col0\" >29</td>\n",
       "            </tr>\n",
       "            <tr>\n",
       "                        <th id=\"T_e63ea_level0_row20\" class=\"row_heading level0 row20\" >X47</th>\n",
       "                        <td id=\"T_e63ea_row20_col0\" class=\"data row20 col0\" >29</td>\n",
       "            </tr>\n",
       "            <tr>\n",
       "                        <th id=\"T_e63ea_level0_row21\" class=\"row_heading level0 row21\" >X26</th>\n",
       "                        <td id=\"T_e63ea_row21_col0\" class=\"data row21 col0\" >25</td>\n",
       "            </tr>\n",
       "            <tr>\n",
       "                        <th id=\"T_e63ea_level0_row22\" class=\"row_heading level0 row22\" >X50</th>\n",
       "                        <td id=\"T_e63ea_row22_col0\" class=\"data row22 col0\" >25</td>\n",
       "            </tr>\n",
       "            <tr>\n",
       "                        <th id=\"T_e63ea_level0_row23\" class=\"row_heading level0 row23\" >X17</th>\n",
       "                        <td id=\"T_e63ea_row23_col0\" class=\"data row23 col0\" >25</td>\n",
       "            </tr>\n",
       "            <tr>\n",
       "                        <th id=\"T_e63ea_level0_row24\" class=\"row_heading level0 row24\" >X16</th>\n",
       "                        <td id=\"T_e63ea_row24_col0\" class=\"data row24 col0\" >25</td>\n",
       "            </tr>\n",
       "            <tr>\n",
       "                        <th id=\"T_e63ea_level0_row25\" class=\"row_heading level0 row25\" >X8</th>\n",
       "                        <td id=\"T_e63ea_row25_col0\" class=\"data row25 col0\" >25</td>\n",
       "            </tr>\n",
       "            <tr>\n",
       "                        <th id=\"T_e63ea_level0_row26\" class=\"row_heading level0 row26\" >X34</th>\n",
       "                        <td id=\"T_e63ea_row26_col0\" class=\"data row26 col0\" >25</td>\n",
       "            </tr>\n",
       "            <tr>\n",
       "                        <th id=\"T_e63ea_level0_row27\" class=\"row_heading level0 row27\" >X61</th>\n",
       "                        <td id=\"T_e63ea_row27_col0\" class=\"data row27 col0\" >22</td>\n",
       "            </tr>\n",
       "            <tr>\n",
       "                        <th id=\"T_e63ea_level0_row28\" class=\"row_heading level0 row28\" >X5</th>\n",
       "                        <td id=\"T_e63ea_row28_col0\" class=\"data row28 col0\" >8</td>\n",
       "            </tr>\n",
       "            <tr>\n",
       "                        <th id=\"T_e63ea_level0_row29\" class=\"row_heading level0 row29\" >X48</th>\n",
       "                        <td id=\"T_e63ea_row29_col0\" class=\"data row29 col0\" >3</td>\n",
       "            </tr>\n",
       "            <tr>\n",
       "                        <th id=\"T_e63ea_level0_row30\" class=\"row_heading level0 row30\" >X35</th>\n",
       "                        <td id=\"T_e63ea_row30_col0\" class=\"data row30 col0\" >3</td>\n",
       "            </tr>\n",
       "            <tr>\n",
       "                        <th id=\"T_e63ea_level0_row31\" class=\"row_heading level0 row31\" >X51</th>\n",
       "                        <td id=\"T_e63ea_row31_col0\" class=\"data row31 col0\" >3</td>\n",
       "            </tr>\n",
       "            <tr>\n",
       "                        <th id=\"T_e63ea_level0_row32\" class=\"row_heading level0 row32\" >X38</th>\n",
       "                        <td id=\"T_e63ea_row32_col0\" class=\"data row32 col0\" >3</td>\n",
       "            </tr>\n",
       "            <tr>\n",
       "                        <th id=\"T_e63ea_level0_row33\" class=\"row_heading level0 row33\" >X36</th>\n",
       "                        <td id=\"T_e63ea_row33_col0\" class=\"data row33 col0\" >3</td>\n",
       "            </tr>\n",
       "            <tr>\n",
       "                        <th id=\"T_e63ea_level0_row34\" class=\"row_heading level0 row34\" >X1</th>\n",
       "                        <td id=\"T_e63ea_row34_col0\" class=\"data row34 col0\" >3</td>\n",
       "            </tr>\n",
       "            <tr>\n",
       "                        <th id=\"T_e63ea_level0_row35\" class=\"row_heading level0 row35\" >X2</th>\n",
       "                        <td id=\"T_e63ea_row35_col0\" class=\"data row35 col0\" >3</td>\n",
       "            </tr>\n",
       "            <tr>\n",
       "                        <th id=\"T_e63ea_level0_row36\" class=\"row_heading level0 row36\" >X22</th>\n",
       "                        <td id=\"T_e63ea_row36_col0\" class=\"data row36 col0\" >3</td>\n",
       "            </tr>\n",
       "            <tr>\n",
       "                        <th id=\"T_e63ea_level0_row37\" class=\"row_heading level0 row37\" >X3</th>\n",
       "                        <td id=\"T_e63ea_row37_col0\" class=\"data row37 col0\" >3</td>\n",
       "            </tr>\n",
       "            <tr>\n",
       "                        <th id=\"T_e63ea_level0_row38\" class=\"row_heading level0 row38\" >X6</th>\n",
       "                        <td id=\"T_e63ea_row38_col0\" class=\"data row38 col0\" >3</td>\n",
       "            </tr>\n",
       "            <tr>\n",
       "                        <th id=\"T_e63ea_level0_row39\" class=\"row_heading level0 row39\" >X29</th>\n",
       "                        <td id=\"T_e63ea_row39_col0\" class=\"data row39 col0\" >3</td>\n",
       "            </tr>\n",
       "            <tr>\n",
       "                        <th id=\"T_e63ea_level0_row40\" class=\"row_heading level0 row40\" >X25</th>\n",
       "                        <td id=\"T_e63ea_row40_col0\" class=\"data row40 col0\" >3</td>\n",
       "            </tr>\n",
       "            <tr>\n",
       "                        <th id=\"T_e63ea_level0_row41\" class=\"row_heading level0 row41\" >X7</th>\n",
       "                        <td id=\"T_e63ea_row41_col0\" class=\"data row41 col0\" >3</td>\n",
       "            </tr>\n",
       "            <tr>\n",
       "                        <th id=\"T_e63ea_level0_row42\" class=\"row_heading level0 row42\" >X10</th>\n",
       "                        <td id=\"T_e63ea_row42_col0\" class=\"data row42 col0\" >3</td>\n",
       "            </tr>\n",
       "            <tr>\n",
       "                        <th id=\"T_e63ea_level0_row43\" class=\"row_heading level0 row43\" >X14</th>\n",
       "                        <td id=\"T_e63ea_row43_col0\" class=\"data row43 col0\" >3</td>\n",
       "            </tr>\n",
       "            <tr>\n",
       "                        <th id=\"T_e63ea_level0_row44\" class=\"row_heading level0 row44\" >X18</th>\n",
       "                        <td id=\"T_e63ea_row44_col0\" class=\"data row44 col0\" >3</td>\n",
       "            </tr>\n",
       "            <tr>\n",
       "                        <th id=\"T_e63ea_level0_row45\" class=\"row_heading level0 row45\" >X15</th>\n",
       "                        <td id=\"T_e63ea_row45_col0\" class=\"data row45 col0\" >2</td>\n",
       "            </tr>\n",
       "            <tr>\n",
       "                        <th id=\"T_e63ea_level0_row46\" class=\"row_heading level0 row46\" >X57</th>\n",
       "                        <td id=\"T_e63ea_row46_col0\" class=\"data row46 col0\" >1</td>\n",
       "            </tr>\n",
       "            <tr>\n",
       "                        <th id=\"T_e63ea_level0_row47\" class=\"row_heading level0 row47\" >X9</th>\n",
       "                        <td id=\"T_e63ea_row47_col0\" class=\"data row47 col0\" >1</td>\n",
       "            </tr>\n",
       "            <tr>\n",
       "                        <th id=\"T_e63ea_level0_row48\" class=\"row_heading level0 row48\" >X59</th>\n",
       "                        <td id=\"T_e63ea_row48_col0\" class=\"data row48 col0\" >1</td>\n",
       "            </tr>\n",
       "            <tr>\n",
       "                        <th id=\"T_e63ea_level0_row49\" class=\"row_heading level0 row49\" >X20</th>\n",
       "                        <td id=\"T_e63ea_row49_col0\" class=\"data row49 col0\" >0</td>\n",
       "            </tr>\n",
       "            <tr>\n",
       "                        <th id=\"T_e63ea_level0_row50\" class=\"row_heading level0 row50\" >X30</th>\n",
       "                        <td id=\"T_e63ea_row50_col0\" class=\"data row50 col0\" >0</td>\n",
       "            </tr>\n",
       "            <tr>\n",
       "                        <th id=\"T_e63ea_level0_row51\" class=\"row_heading level0 row51\" >X39</th>\n",
       "                        <td id=\"T_e63ea_row51_col0\" class=\"data row51 col0\" >0</td>\n",
       "            </tr>\n",
       "            <tr>\n",
       "                        <th id=\"T_e63ea_level0_row52\" class=\"row_heading level0 row52\" >X62</th>\n",
       "                        <td id=\"T_e63ea_row52_col0\" class=\"data row52 col0\" >0</td>\n",
       "            </tr>\n",
       "            <tr>\n",
       "                        <th id=\"T_e63ea_level0_row53\" class=\"row_heading level0 row53\" >X42</th>\n",
       "                        <td id=\"T_e63ea_row53_col0\" class=\"data row53 col0\" >0</td>\n",
       "            </tr>\n",
       "            <tr>\n",
       "                        <th id=\"T_e63ea_level0_row54\" class=\"row_heading level0 row54\" >X58</th>\n",
       "                        <td id=\"T_e63ea_row54_col0\" class=\"data row54 col0\" >0</td>\n",
       "            </tr>\n",
       "            <tr>\n",
       "                        <th id=\"T_e63ea_level0_row55\" class=\"row_heading level0 row55\" >X56</th>\n",
       "                        <td id=\"T_e63ea_row55_col0\" class=\"data row55 col0\" >0</td>\n",
       "            </tr>\n",
       "            <tr>\n",
       "                        <th id=\"T_e63ea_level0_row56\" class=\"row_heading level0 row56\" >X19</th>\n",
       "                        <td id=\"T_e63ea_row56_col0\" class=\"data row56 col0\" >0</td>\n",
       "            </tr>\n",
       "            <tr>\n",
       "                        <th id=\"T_e63ea_level0_row57\" class=\"row_heading level0 row57\" >X55</th>\n",
       "                        <td id=\"T_e63ea_row57_col0\" class=\"data row57 col0\" >0</td>\n",
       "            </tr>\n",
       "            <tr>\n",
       "                        <th id=\"T_e63ea_level0_row58\" class=\"row_heading level0 row58\" >X43</th>\n",
       "                        <td id=\"T_e63ea_row58_col0\" class=\"data row58 col0\" >0</td>\n",
       "            </tr>\n",
       "            <tr>\n",
       "                        <th id=\"T_e63ea_level0_row59\" class=\"row_heading level0 row59\" >X13</th>\n",
       "                        <td id=\"T_e63ea_row59_col0\" class=\"data row59 col0\" >0</td>\n",
       "            </tr>\n",
       "            <tr>\n",
       "                        <th id=\"T_e63ea_level0_row60\" class=\"row_heading level0 row60\" >X44</th>\n",
       "                        <td id=\"T_e63ea_row60_col0\" class=\"data row60 col0\" >0</td>\n",
       "            </tr>\n",
       "            <tr>\n",
       "                        <th id=\"T_e63ea_level0_row61\" class=\"row_heading level0 row61\" >X31</th>\n",
       "                        <td id=\"T_e63ea_row61_col0\" class=\"data row61 col0\" >0</td>\n",
       "            </tr>\n",
       "            <tr>\n",
       "                        <th id=\"T_e63ea_level0_row62\" class=\"row_heading level0 row62\" >X23</th>\n",
       "                        <td id=\"T_e63ea_row62_col0\" class=\"data row62 col0\" >0</td>\n",
       "            </tr>\n",
       "            <tr>\n",
       "                        <th id=\"T_e63ea_level0_row63\" class=\"row_heading level0 row63\" >X49</th>\n",
       "                        <td id=\"T_e63ea_row63_col0\" class=\"data row63 col0\" >0</td>\n",
       "            </tr>\n",
       "            <tr>\n",
       "                        <th id=\"T_e63ea_level0_row64\" class=\"row_heading level0 row64\" >X65</th>\n",
       "                        <td id=\"T_e63ea_row64_col0\" class=\"data row64 col0\" >0</td>\n",
       "            </tr>\n",
       "    </tbody></table>"
      ],
      "text/plain": [
       "<pandas.io.formats.style.Styler at 0x259f32956d0>"
      ]
     },
     "execution_count": 167,
     "metadata": {},
     "output_type": "execute_result"
    }
   ],
   "source": [
    "missing_col = pd.DataFrame({'missing values': missing.sum(axis=0).values}, index = missing.columns.values)\n",
    "missing_col.sort_values('missing values', ascending=False).style.background_gradient(cmap='Blues', vmax=500, vmin=20, low=0.1)"
   ]
  },
  {
   "cell_type": "markdown",
   "id": "0e9d0634",
   "metadata": {},
   "source": [
    "It appears that there is many variables with only 3 values missing, so it may be due to only specific companies (rows) with missing values"
   ]
  },
  {
   "cell_type": "code",
   "execution_count": 162,
   "id": "b52f930b",
   "metadata": {},
   "outputs": [
    {
     "data": {
      "text/plain": [
       "16"
      ]
     },
     "execution_count": 162,
     "metadata": {},
     "output_type": "execute_result"
    }
   ],
   "source": [
    "(missing.sum(axis=0) == 3).sum()"
   ]
  },
  {
   "cell_type": "markdown",
   "id": "997f96d0",
   "metadata": {},
   "source": [
    "So, let's remove variables with many missing values (>30 values) and visualise companies "
   ]
  },
  {
   "cell_type": "code",
   "execution_count": 163,
   "id": "b1a81803",
   "metadata": {},
   "outputs": [
    {
     "data": {
      "text/plain": [
       "X4       30\n",
       "X11      39\n",
       "X12      30\n",
       "X21    1622\n",
       "X24     124\n",
       "X27     311\n",
       "X28      34\n",
       "X32      38\n",
       "X33      30\n",
       "X37    2740\n",
       "X40      30\n",
       "X41      84\n",
       "X45     134\n",
       "X46      31\n",
       "X53      34\n",
       "X54      34\n",
       "X60     135\n",
       "X63      30\n",
       "X64      34\n",
       "Name: Useless variables, dtype: int64"
      ]
     },
     "execution_count": 163,
     "metadata": {},
     "output_type": "execute_result"
    }
   ],
   "source": [
    "useless_col = missing.sum(axis=0)[missing.sum(axis=0) >= 30]\n",
    "useless_col.name = 'Useless variables'#.plot(kind='bar', figsize=(15,5))\n",
    "useless_col"
   ]
  },
  {
   "cell_type": "code",
   "execution_count": 164,
   "id": "7c9333f4",
   "metadata": {},
   "outputs": [],
   "source": [
    "missing.drop(useless_col.index, axis=1, inplace=True)"
   ]
  },
  {
   "cell_type": "code",
   "execution_count": 171,
   "id": "3d12cb6d",
   "metadata": {},
   "outputs": [
    {
     "data": {
      "text/plain": [
       "count    25.000000\n",
       "mean     16.560000\n",
       "std       6.285433\n",
       "min      13.000000\n",
       "25%      14.000000\n",
       "50%      15.000000\n",
       "75%      15.000000\n",
       "max      40.000000\n",
       "dtype: float64"
      ]
     },
     "execution_count": 171,
     "metadata": {},
     "output_type": "execute_result"
    }
   ],
   "source": [
    "missing.sum(axis=1)[missing.sum(axis=1) > 10].describe()"
   ]
  },
  {
   "cell_type": "code",
   "execution_count": null,
   "id": "131912f1",
   "metadata": {},
   "outputs": [],
   "source": []
  }
 ],
 "metadata": {
  "kernelspec": {
   "display_name": "Python 3",
   "language": "python",
   "name": "python3"
  },
  "language_info": {
   "codemirror_mode": {
    "name": "ipython",
    "version": 3
   },
   "file_extension": ".py",
   "mimetype": "text/x-python",
   "name": "python",
   "nbconvert_exporter": "python",
   "pygments_lexer": "ipython3",
   "version": "3.8.5"
  }
 },
 "nbformat": 4,
 "nbformat_minor": 5
}
