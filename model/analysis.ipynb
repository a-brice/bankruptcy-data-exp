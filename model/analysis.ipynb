{
 "cells": [
  {
   "cell_type": "markdown",
   "id": "5c015df1",
   "metadata": {},
   "source": [
    "# Model analysis"
   ]
  },
  {
   "cell_type": "markdown",
   "id": "5e8fd8ba",
   "metadata": {},
   "source": [
    "#### Required libraries"
   ]
  },
  {
   "cell_type": "code",
   "execution_count": 1,
   "id": "b0af2c1b",
   "metadata": {},
   "outputs": [],
   "source": [
    "import numpy as np\n",
    "import pandas as pd\n",
    "import json\n",
    "import pickle\n",
    "import matplotlib.pyplot as plt\n",
    "\n",
    "from sklearn.model_selection import GridSearchCV, train_test_split, cross_val_score\n",
    "from sklearn.preprocessing import StandardScaler\n",
    "from sklearn.linear_model import LogisticRegression\n",
    "from sklearn.neural_network import MLPClassifier\n",
    "from sklearn.svm import SVC\n",
    "from sklearn.discriminant_analysis import LinearDiscriminantAnalysis as LDA\n",
    "from sklearn.ensemble import AdaBoostClassifier, GradientBoostingClassifier, RandomForestClassifier\n",
    "\n",
    "import warnings\n",
    "warnings.filterwarnings(\"ignore\")"
   ]
  },
  {
   "cell_type": "markdown",
   "id": "2d3df31d",
   "metadata": {},
   "source": [
    "### Data preparation"
   ]
  },
  {
   "cell_type": "code",
   "execution_count": 2,
   "id": "00d9f253",
   "metadata": {
    "scrolled": true
   },
   "outputs": [
    {
     "data": {
      "text/plain": [
       "((43184, 64), Index(['X21', 'X37'], dtype='object'))"
      ]
     },
     "execution_count": 2,
     "metadata": {},
     "output_type": "execute_result"
    }
   ],
   "source": [
    "data = pd.read_csv('../data/extension/csv/data.csv')\n",
    "data.replace('?', np.NAN, inplace=True)\n",
    "data[data.columns.drop(['year', 'X65'])] = data[data.columns.drop(['year', 'X65'])].astype(float)\n",
    "data[['year', 'X65']] = data[['year', 'X65']].astype('category')\n",
    "    \n",
    "\n",
    "useless_col = data.isna().sum()[data.isna().sum() > 5000].index\n",
    "data.drop(useless_col, axis=1, inplace=True)\n",
    "useless_row = data.isna().sum(axis=1)[data.isna().sum(axis=1) > 10].index\n",
    "data.drop(useless_row, axis=0, inplace=True)\n",
    "data.fillna(data.mean(), inplace=True)\n",
    "data = data.sample(frac=1)\n",
    "data.shape, useless_col"
   ]
  },
  {
   "cell_type": "markdown",
   "id": "f82e35b0",
   "metadata": {},
   "source": [
    "#### Train data and test data"
   ]
  },
  {
   "cell_type": "markdown",
   "id": "2741e187",
   "metadata": {},
   "source": [
    "To get a balanced dataset that is fairly dependant on each year :"
   ]
  },
  {
   "cell_type": "code",
   "execution_count": 3,
   "id": "6009c52c",
   "metadata": {},
   "outputs": [
    {
     "data": {
      "text/plain": [
       "((34545, 64), (8639, 64))"
      ]
     },
     "execution_count": 3,
     "metadata": {},
     "output_type": "execute_result"
    }
   ],
   "source": [
    "train_ = pd.DataFrame()\n",
    "test_ = pd.DataFrame()\n",
    "for year in data.year.unique():\n",
    "    tr, ts = train_test_split(data[data.year == year], test_size=0.2, random_state=9)\n",
    "    train_ = train_.append(tr, ignore_index=True)\n",
    "    test_ = test_.append(ts, ignore_index=True)\n",
    "\n",
    "train_.shape, test_.shape"
   ]
  },
  {
   "cell_type": "markdown",
   "id": "003dd9d5",
   "metadata": {},
   "source": [
    "#### Data standardization"
   ]
  },
  {
   "cell_type": "code",
   "execution_count": 4,
   "id": "67ba2f10",
   "metadata": {},
   "outputs": [],
   "source": [
    "categ = ['year', 'X65']\n",
    "\n",
    "scaler =  StandardScaler()\n",
    "scaler.fit(train_.drop(columns=categ))\n",
    "\n",
    "train = pd.DataFrame(scaler.transform(train_.drop(columns=categ)), \n",
    "                      columns=train_.columns.drop(categ))\n",
    "test = pd.DataFrame(scaler.transform(test_.drop(columns=categ)), \n",
    "                     columns=test_.columns.drop(categ))\n",
    "\n",
    "train = pd.concat([train, train_[categ]], axis=1)\n",
    "test = pd.concat([test, test_[categ]], axis=1)"
   ]
  },
  {
   "cell_type": "code",
   "execution_count": 5,
   "id": "4b99febc",
   "metadata": {},
   "outputs": [],
   "source": [
    "train_y = train.pop('X65')\n",
    "train_x = train.copy()\n",
    "\n",
    "test_y = test.pop('X65')\n",
    "test_x = test.copy()"
   ]
  },
  {
   "cell_type": "markdown",
   "id": "e7930879",
   "metadata": {},
   "source": [
    "#### Save scaler used for standardize train set"
   ]
  },
  {
   "cell_type": "code",
   "execution_count": 6,
   "id": "d208d59d",
   "metadata": {},
   "outputs": [],
   "source": [
    "with open('saved_model/scaler.sav', 'wb') as f:\n",
    "    pickle.dump(scaler, f)"
   ]
  },
  {
   "cell_type": "markdown",
   "id": "ff6ada41",
   "metadata": {},
   "source": [
    "#### Encode categorical variable : year"
   ]
  },
  {
   "cell_type": "code",
   "execution_count": 7,
   "id": "e42de2bb",
   "metadata": {},
   "outputs": [
    {
     "data": {
      "text/plain": [
       "((34545, 67), (8639, 67))"
      ]
     },
     "execution_count": 7,
     "metadata": {},
     "output_type": "execute_result"
    }
   ],
   "source": [
    "train_x = pd.get_dummies(train_x)\n",
    "test_x = pd.get_dummies(test_x)\n",
    "\n",
    "train_x.shape, test_x.shape"
   ]
  },
  {
   "cell_type": "markdown",
   "id": "0282b33f",
   "metadata": {},
   "source": [
    "### Model testing"
   ]
  },
  {
   "cell_type": "markdown",
   "id": "0a19c51d",
   "metadata": {},
   "source": [
    "12 max features because in visualisation part, we saw that only 12 was needed to reach the biggest parts of information contained in dataset"
   ]
  },
  {
   "cell_type": "markdown",
   "id": "d28ce706",
   "metadata": {},
   "source": [
    "#### Logistic regression"
   ]
  },
  {
   "cell_type": "code",
   "execution_count": 219,
   "id": "6f760457",
   "metadata": {
    "scrolled": true
   },
   "outputs": [
    {
     "data": {
      "text/plain": [
       "array([0.9510783 , 0.95078883, 0.95035461, 0.9510783 , 0.9510783 ])"
      ]
     },
     "execution_count": 219,
     "metadata": {},
     "output_type": "execute_result"
    }
   ],
   "source": [
    "lr = LogisticRegression()\n",
    "cross_val_score(lr, train_x, train_y, cv=5)"
   ]
  },
  {
   "cell_type": "code",
   "execution_count": 235,
   "id": "ed52e1e6",
   "metadata": {
    "scrolled": true
   },
   "outputs": [
    {
     "name": "stdout",
     "output_type": "stream",
     "text": [
      "LogisticRegression(n_jobs=-1)\n",
      "for {'C': 1, 'solver': 'newton-cg'} => mean : 0.9497467071935156\n",
      "for {'C': 1, 'solver': 'sag'} => mean : 0.9509335649153279\n",
      "LogisticRegression(C=1, n_jobs=-1, solver='sag')\n"
     ]
    }
   ],
   "source": [
    "params = dict(solver=['newton-cg', 'sag'], C=[1, 2, 3])\n",
    "lr = LogisticRegression(n_jobs=-1)\n",
    "grid = GridSearchCV(lr, params, cv=3, n_jobs=-1)\n",
    "grid.fit(train_x, train_y)\n",
    "grid.cv_results_\n",
    "print(lr)\n",
    "print(\"\\n\".join([f\"for {x} => mean : {y}\" for x,y in zip(\n",
    "                     grid.cv_results_['params'], grid.cv_results_['mean_test_score']\n",
    "                 )]))\n",
    "print(grid.best_estimator_)"
   ]
  },
  {
   "cell_type": "markdown",
   "id": "45414d5e",
   "metadata": {},
   "source": [
    "#### Linear Discriminant Analysis"
   ]
  },
  {
   "cell_type": "code",
   "execution_count": 236,
   "id": "6caa985c",
   "metadata": {
    "scrolled": true
   },
   "outputs": [
    {
     "data": {
      "text/plain": [
       "array([0.94905196, 0.94992039, 0.94977565, 0.95049935, 0.95006513])"
      ]
     },
     "execution_count": 236,
     "metadata": {},
     "output_type": "execute_result"
    }
   ],
   "source": [
    "lda = LDA(solver='svd', tol=1e-4)\n",
    "cross_val_score(lda, train_x, train_y, cv=5)"
   ]
  },
  {
   "cell_type": "code",
   "execution_count": 237,
   "id": "dea5745a",
   "metadata": {},
   "outputs": [
    {
     "name": "stdout",
     "output_type": "stream",
     "text": [
      "LinearDiscriminantAnalysis()\n",
      "for {'solver': 'svd', 'tol': 0.001} => mean : 0.9499203936893906\n",
      "for {'solver': 'svd', 'tol': 0.0001} => mean : 0.9498624981907657\n",
      "for {'solver': 'svd', 'tol': 1e-05} => mean : 0.9498335504414532\n",
      "for {'solver': 'lsqr', 'tol': 0.001} => mean : 0.7708496164423215\n",
      "for {'solver': 'lsqr', 'tol': 0.0001} => mean : 0.7708496164423215\n",
      "for {'solver': 'lsqr', 'tol': 1e-05} => mean : 0.7708496164423215\n",
      "LinearDiscriminantAnalysis(tol=0.001)\n"
     ]
    }
   ],
   "source": [
    "params = dict(solver=['svd', 'lsqr'], tol=[1e-3, 1e-4, 1e-5])\n",
    "lda = LDA()\n",
    "grid = GridSearchCV(lda, params, cv=5, n_jobs=-1)\n",
    "grid.fit(train_x, train_y)\n",
    "grid.cv_results_\n",
    "print(lda)\n",
    "print(\"\\n\".join([f\"for {x} => mean : {y}\" \n",
    "                 for x,y in zip(\n",
    "                     grid.cv_results_['params'], \n",
    "                     grid.cv_results_['mean_test_score'])]\n",
    "               ))\n",
    "print(grid.best_estimator_)"
   ]
  },
  {
   "cell_type": "markdown",
   "id": "3fc00385",
   "metadata": {},
   "source": [
    "#### Random Forest"
   ]
  },
  {
   "cell_type": "code",
   "execution_count": 230,
   "id": "b5979ff0",
   "metadata": {
    "scrolled": true
   },
   "outputs": [
    {
     "data": {
      "text/plain": [
       "array([0.96491533, 0.96552323, 0.96439427])"
      ]
     },
     "execution_count": 230,
     "metadata": {},
     "output_type": "execute_result"
    }
   ],
   "source": [
    "rf = RandomForestClassifier(n_jobs=-1, random_state=9)\n",
    "cross_val_score(rf, train_x, train_y, cv=3)"
   ]
  },
  {
   "cell_type": "code",
   "execution_count": 8,
   "id": "9f64c34b",
   "metadata": {
    "scrolled": false
   },
   "outputs": [
    {
     "name": "stdout",
     "output_type": "stream",
     "text": [
      "RandomForestClassifier(n_jobs=-1, random_state=9)\n",
      "for {'criterion': 'gini', 'max_depth': 15} => mean : 0.9654653350701983\n",
      "for {'criterion': 'gini', 'max_depth': 35} => mean : 0.9658995513098857\n",
      "for {'criterion': 'gini', 'max_depth': 50} => mean : 0.9658127080619482\n",
      "for {'criterion': 'entropy', 'max_depth': 15} => mean : 0.9642784773483862\n",
      "for {'criterion': 'entropy', 'max_depth': 35} => mean : 0.9638442611086987\n",
      "for {'criterion': 'entropy', 'max_depth': 50} => mean : 0.9638442611086987\n",
      "RandomForestClassifier(max_depth=35, n_jobs=-1, random_state=9)\n"
     ]
    }
   ],
   "source": [
    "params = dict(criterion=['gini', 'entropy'], max_depth=[15, 35, 50])\n",
    "rf = RandomForestClassifier(n_jobs=-1, random_state=9)\n",
    "\n",
    "grid = GridSearchCV(rf, params, cv=3, n_jobs=-1)\n",
    "grid.fit(train_x, train_y)\n",
    "grid.cv_results_\n",
    "print(rf)\n",
    "print(\"\\n\".join([f\"for {x} => mean : {y}\" \n",
    "                 for x,y in zip(\n",
    "                     grid.cv_results_['params'], \n",
    "                     grid.cv_results_['mean_test_score'])]\n",
    "               ))\n",
    "print(grid.best_estimator_)"
   ]
  },
  {
   "cell_type": "markdown",
   "id": "225f6f89",
   "metadata": {},
   "source": [
    "#### Gradient Boosting"
   ]
  },
  {
   "cell_type": "code",
   "execution_count": null,
   "id": "365b6731",
   "metadata": {},
   "outputs": [],
   "source": [
    "gbm = GradientBoostingClassifier()\n",
    "cross_val_score(gbm, train_x, train_y, cv=5)"
   ]
  },
  {
   "cell_type": "code",
   "execution_count": null,
   "id": "b9bb4a32",
   "metadata": {},
   "outputs": [],
   "source": [
    "params = dict(loss=['deviance', 'exponential'], \n",
    "              learning_rate=[0.6, 0.1, 5e-3], \n",
    "              n_estimators=[100, 300], max_depth=[3,5,7])\n",
    "gbm = GradientBoostingClassifier(random_state=9)\n",
    "\n",
    "grid = GridSearchCV(gbm, params, cv=3, n_jobs=-1)\n",
    "grid.fit(train_x, train_y)\n",
    "grid.cv_results_\n",
    "print(gbm)\n",
    "print(\"\\n\".join([f\"for {x} => mean : {y}\" \n",
    "                 for x,y in zip(\n",
    "                     grid.cv_results_['params'], \n",
    "                     grid.cv_results_['mean_test_score'])]\n",
    "               ))\n",
    "print(grid.best_estimator_)"
   ]
  },
  {
   "cell_type": "markdown",
   "id": "93f99c28",
   "metadata": {},
   "source": [
    "#### SVM"
   ]
  },
  {
   "cell_type": "code",
   "execution_count": null,
   "id": "506442da",
   "metadata": {},
   "outputs": [],
   "source": [
    "svm = SVC()\n",
    "cross_val_score(svm, train_x, train_y, cv=5)"
   ]
  },
  {
   "cell_type": "code",
   "execution_count": null,
   "id": "159ed603",
   "metadata": {},
   "outputs": [],
   "source": [
    "params = dict(C=[1, 2, 3, 4], \n",
    "              kernel=['linear', 'rbf'],\n",
    "              tol=[1e-3, 1e-4])\n",
    "svm = SVC(random_state=9)\n",
    "\n",
    "grid = GridSearchCV(svm, params, cv=3, n_jobs=-1)\n",
    "grid.fit(train_x, train_y)\n",
    "grid.cv_results_\n",
    "print(svm)\n",
    "print(\"\\n\".join([f\"for {x} => mean : {y}\" \n",
    "                 for x,y in zip(\n",
    "                     grid.cv_results_['params'], \n",
    "                     grid.cv_results_['mean_test_score'])]\n",
    "               ))\n",
    "print(grid.best_estimator_)"
   ]
  },
  {
   "cell_type": "markdown",
   "id": "f5a1694a",
   "metadata": {},
   "source": [
    "#### Bonus neural network : MultiLayer Perceptron"
   ]
  },
  {
   "cell_type": "code",
   "execution_count": null,
   "id": "a1423e10",
   "metadata": {},
   "outputs": [],
   "source": [
    "mlp = MLPClassifier()\n",
    "mlp.fit(train_x, train_y)\n",
    "mlp.score(train_x, train_y)"
   ]
  },
  {
   "cell_type": "code",
   "execution_count": null,
   "id": "d6c46ea9",
   "metadata": {},
   "outputs": [],
   "source": [
    "params = dict(hidden_layer_sizes=[50, 100, 120, 150], \n",
    "              activation=['relu', 'tanh'], batch_size=[20, 50, 200])\n",
    "mlp = MLPClassifier(random_state=9)\n",
    "\n",
    "grid = GridSearchCV(mlp, params, cv=3, n_jobs=-1)\n",
    "grid.fit(train_x, train_y)\n",
    "grid.cv_results_\n",
    "print(mlp)\n",
    "print(\"\\n\".join([f\"for {x} => mean : {y}\" \n",
    "                 for x,y in zip(\n",
    "                     grid.cv_results_['params'], \n",
    "                     grid.cv_results_['mean_test_score'])]\n",
    "               ))\n",
    "print(grid.best_estimator_)"
   ]
  },
  {
   "cell_type": "markdown",
   "id": "4705506e",
   "metadata": {},
   "source": [
    "### Underlying variables"
   ]
  },
  {
   "cell_type": "code",
   "execution_count": 114,
   "id": "feeb08e1",
   "metadata": {},
   "outputs": [],
   "source": [
    "with open('../data/udata_description.json', 'r') as f:\n",
    "    udesc = json.loads(f.read())\n",
    "    udesc['U35'] = 'bankrupt'"
   ]
  },
  {
   "cell_type": "code",
   "execution_count": 147,
   "id": "03db885d",
   "metadata": {},
   "outputs": [
    {
     "data": {
      "text/plain": [
       "((43246, 33), ['financial expenses', 'receivables', 'sales (n) / sales (n-1)'])"
      ]
     },
     "execution_count": 147,
     "metadata": {},
     "output_type": "execute_result"
    }
   ],
   "source": [
    "udata = pd.read_csv('../data/extension/csv/udata.csv')\n",
    "udata.head()\n",
    "udata.replace(np.inf, np.NAN, inplace=True)\n",
    "useless_col = udata.isna().sum()[udata.isna().sum() > 5000].index\n",
    "udata.drop(useless_col, axis=1, inplace=True)\n",
    "useless_row = udata.isna().sum(axis=1)[udata.isna().sum(axis=1) > 5].index\n",
    "udata.drop(useless_row, axis=0, inplace=True)\n",
    "udata.fillna(udata.mean(), inplace=True)\n",
    "udata.shape, [udesc[var] for var in useless_col]"
   ]
  },
  {
   "cell_type": "code",
   "execution_count": 148,
   "id": "426fe542",
   "metadata": {},
   "outputs": [],
   "source": [
    "train_ = pd.DataFrame()\n",
    "test_ = pd.DataFrame()\n",
    "for year in udata.year.unique():\n",
    "    tr, ts = train_test_split(udata[udata.year == year], test_size=0.2, random_state=9)\n",
    "    train_ = train_.append(tr, ignore_index=True)\n",
    "    test_ = test_.append(ts, ignore_index=True)\n",
    "\n",
    "categ = ['year', 'U35']\n",
    "\n",
    "uscaler =  StandardScaler()\n",
    "uscaler.fit(train_.drop(columns=categ))\n",
    "\n",
    "train = pd.DataFrame(uscaler.transform(train_.drop(columns=categ)), \n",
    "                      columns=train_.columns.drop(categ))\n",
    "test = pd.DataFrame(uscaler.transform(test_.drop(columns=categ)), \n",
    "                     columns=test_.columns.drop(categ))"
   ]
  },
  {
   "cell_type": "markdown",
   "id": "567e9d0b",
   "metadata": {},
   "source": [
    "#### Save scaler used for standardize train set"
   ]
  },
  {
   "cell_type": "code",
   "execution_count": 149,
   "id": "c66432a3",
   "metadata": {},
   "outputs": [],
   "source": [
    "with open('saved_model/uscaler.sav', 'wb') as f:\n",
    "    pickle.dump(uscaler, f)"
   ]
  },
  {
   "cell_type": "code",
   "execution_count": 150,
   "id": "076a3940",
   "metadata": {},
   "outputs": [
    {
     "data": {
      "text/plain": [
       "((34594, 36), (34594,))"
      ]
     },
     "execution_count": 150,
     "metadata": {},
     "output_type": "execute_result"
    }
   ],
   "source": [
    "train = pd.concat([train, train_[categ]], axis=1)\n",
    "test = pd.concat([test, test_[categ]], axis=1)\n",
    "train_y = train.pop('U35')\n",
    "train_x = train.copy()\n",
    "test_y = test.pop('U35')\n",
    "test_x = test.copy()\n",
    "\n",
    "train_x = pd.get_dummies(train_x)\n",
    "test_x = pd.get_dummies(test_x)\n",
    "\n",
    "train_x.shape, train_y.shape"
   ]
  },
  {
   "cell_type": "markdown",
   "id": "98349617",
   "metadata": {},
   "source": [
    "### Test"
   ]
  },
  {
   "cell_type": "markdown",
   "id": "64b3e3c2",
   "metadata": {},
   "source": [
    "#### On logistic regression"
   ]
  },
  {
   "cell_type": "code",
   "execution_count": 151,
   "id": "286e0862",
   "metadata": {},
   "outputs": [
    {
     "data": {
      "text/plain": [
       "array([0.95129354, 0.94999277, 0.95100448, 0.95129354, 0.9524429 ])"
      ]
     },
     "execution_count": 151,
     "metadata": {},
     "output_type": "execute_result"
    }
   ],
   "source": [
    "lr = LogisticRegression()\n",
    "cross_val_score(lr, train_x, train_y, cv=5)"
   ]
  },
  {
   "cell_type": "markdown",
   "id": "486329e8",
   "metadata": {},
   "source": [
    "it appears that there is a tiny increasing with this dataset of underlying variable, let's test it on \n",
    "our best model, the MLP "
   ]
  },
  {
   "cell_type": "code",
   "execution_count": null,
   "id": "85cb93b2",
   "metadata": {},
   "outputs": [],
   "source": []
  }
 ],
 "metadata": {
  "kernelspec": {
   "display_name": "Python 3 (ipykernel)",
   "language": "python",
   "name": "python3"
  },
  "language_info": {
   "codemirror_mode": {
    "name": "ipython",
    "version": 3
   },
   "file_extension": ".py",
   "mimetype": "text/x-python",
   "name": "python",
   "nbconvert_exporter": "python",
   "pygments_lexer": "ipython3",
   "version": "3.9.7"
  }
 },
 "nbformat": 4,
 "nbformat_minor": 5
}
