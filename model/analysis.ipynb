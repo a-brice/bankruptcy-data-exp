{
 "cells": [
  {
   "cell_type": "markdown",
   "id": "5c015df1",
   "metadata": {},
   "source": [
    "# Model analysis"
   ]
  },
  {
   "cell_type": "markdown",
   "id": "5e8fd8ba",
   "metadata": {},
   "source": [
    "#### Required libraries"
   ]
  },
  {
   "cell_type": "code",
   "execution_count": 1,
   "id": "b0af2c1b",
   "metadata": {},
   "outputs": [],
   "source": [
    "import numpy as np\n",
    "import pandas as pd\n",
    "import matplotlib.pyplot as plt\n",
    "from processing.data_preprocessing import data_prep\n",
    "\n",
    "from sklearn.model_selection import GridSearchCV, train_test_split, cross_val_score\n",
    "from sklearn.preprocessing import StandardScaler\n",
    "from sklearn.linear_model import LogisticRegression\n",
    "from sklearn.neural_network import MLPClassifier\n",
    "from sklearn.svm import SVC\n",
    "from sklearn.discriminant_analysis import LinearDiscriminantAnalysis as LDA\n",
    "from sklearn.ensemble import AdaBoostClassifier, GradientBoostingClassifier, RandomForestClassifier\n",
    "\n",
    "import warnings\n",
    "warnings.filterwarnings(\"ignore\")"
   ]
  },
  {
   "cell_type": "markdown",
   "id": "2d3df31d",
   "metadata": {},
   "source": [
    "### Data preparation"
   ]
  },
  {
   "cell_type": "code",
   "execution_count": 2,
   "id": "00d9f253",
   "metadata": {
    "scrolled": false
   },
   "outputs": [
    {
     "data": {
      "text/html": [
       "<div>\n",
       "<style scoped>\n",
       "    .dataframe tbody tr th:only-of-type {\n",
       "        vertical-align: middle;\n",
       "    }\n",
       "\n",
       "    .dataframe tbody tr th {\n",
       "        vertical-align: top;\n",
       "    }\n",
       "\n",
       "    .dataframe thead th {\n",
       "        text-align: right;\n",
       "    }\n",
       "</style>\n",
       "<table border=\"1\" class=\"dataframe\">\n",
       "  <thead>\n",
       "    <tr style=\"text-align: right;\">\n",
       "      <th></th>\n",
       "      <th>year</th>\n",
       "      <th>X1</th>\n",
       "      <th>X2</th>\n",
       "      <th>X3</th>\n",
       "      <th>X4</th>\n",
       "      <th>X5</th>\n",
       "      <th>X6</th>\n",
       "      <th>X7</th>\n",
       "      <th>X8</th>\n",
       "      <th>X9</th>\n",
       "      <th>...</th>\n",
       "      <th>X55</th>\n",
       "      <th>X56</th>\n",
       "      <th>X57</th>\n",
       "      <th>X58</th>\n",
       "      <th>X59</th>\n",
       "      <th>X61</th>\n",
       "      <th>X62</th>\n",
       "      <th>X63</th>\n",
       "      <th>X64</th>\n",
       "      <th>X65</th>\n",
       "    </tr>\n",
       "  </thead>\n",
       "  <tbody>\n",
       "    <tr>\n",
       "      <th>0</th>\n",
       "      <td>1year</td>\n",
       "      <td>0.209120</td>\n",
       "      <td>0.49988</td>\n",
       "      <td>0.47225</td>\n",
       "      <td>1.9447</td>\n",
       "      <td>14.7860</td>\n",
       "      <td>0.00000</td>\n",
       "      <td>0.258340</td>\n",
       "      <td>0.99601</td>\n",
       "      <td>1.6996</td>\n",
       "      <td>...</td>\n",
       "      <td>2304.6</td>\n",
       "      <td>0.121300</td>\n",
       "      <td>0.42002</td>\n",
       "      <td>0.85300</td>\n",
       "      <td>0.000000</td>\n",
       "      <td>3.2732</td>\n",
       "      <td>107.350</td>\n",
       "      <td>3.4000</td>\n",
       "      <td>60.9870</td>\n",
       "      <td>0</td>\n",
       "    </tr>\n",
       "    <tr>\n",
       "      <th>1</th>\n",
       "      <td>1year</td>\n",
       "      <td>0.248660</td>\n",
       "      <td>0.69592</td>\n",
       "      <td>0.26713</td>\n",
       "      <td>1.5548</td>\n",
       "      <td>-1.1523</td>\n",
       "      <td>0.00000</td>\n",
       "      <td>0.309060</td>\n",
       "      <td>0.43695</td>\n",
       "      <td>1.3090</td>\n",
       "      <td>...</td>\n",
       "      <td>6332.7</td>\n",
       "      <td>0.241140</td>\n",
       "      <td>0.81774</td>\n",
       "      <td>0.76599</td>\n",
       "      <td>0.694840</td>\n",
       "      <td>3.9510</td>\n",
       "      <td>134.270</td>\n",
       "      <td>2.7185</td>\n",
       "      <td>5.2078</td>\n",
       "      <td>0</td>\n",
       "    </tr>\n",
       "    <tr>\n",
       "      <th>2</th>\n",
       "      <td>1year</td>\n",
       "      <td>0.081483</td>\n",
       "      <td>0.30734</td>\n",
       "      <td>0.45879</td>\n",
       "      <td>2.4928</td>\n",
       "      <td>51.9520</td>\n",
       "      <td>0.14988</td>\n",
       "      <td>0.092704</td>\n",
       "      <td>1.86610</td>\n",
       "      <td>1.0571</td>\n",
       "      <td>...</td>\n",
       "      <td>20545.0</td>\n",
       "      <td>0.054015</td>\n",
       "      <td>0.14207</td>\n",
       "      <td>0.94598</td>\n",
       "      <td>0.000000</td>\n",
       "      <td>3.6147</td>\n",
       "      <td>86.435</td>\n",
       "      <td>4.2228</td>\n",
       "      <td>5.5497</td>\n",
       "      <td>0</td>\n",
       "    </tr>\n",
       "    <tr>\n",
       "      <th>3</th>\n",
       "      <td>1year</td>\n",
       "      <td>0.187320</td>\n",
       "      <td>0.61323</td>\n",
       "      <td>0.22960</td>\n",
       "      <td>1.4063</td>\n",
       "      <td>-7.3128</td>\n",
       "      <td>0.18732</td>\n",
       "      <td>0.187320</td>\n",
       "      <td>0.63070</td>\n",
       "      <td>1.1559</td>\n",
       "      <td>...</td>\n",
       "      <td>3186.6</td>\n",
       "      <td>0.134850</td>\n",
       "      <td>0.48431</td>\n",
       "      <td>0.86515</td>\n",
       "      <td>0.124440</td>\n",
       "      <td>4.3158</td>\n",
       "      <td>127.210</td>\n",
       "      <td>2.8692</td>\n",
       "      <td>7.8980</td>\n",
       "      <td>0</td>\n",
       "    </tr>\n",
       "    <tr>\n",
       "      <th>4</th>\n",
       "      <td>1year</td>\n",
       "      <td>0.228220</td>\n",
       "      <td>0.49794</td>\n",
       "      <td>0.35969</td>\n",
       "      <td>1.7502</td>\n",
       "      <td>-47.7170</td>\n",
       "      <td>0.00000</td>\n",
       "      <td>0.281390</td>\n",
       "      <td>1.00830</td>\n",
       "      <td>1.9786</td>\n",
       "      <td>...</td>\n",
       "      <td>7616.8</td>\n",
       "      <td>0.139320</td>\n",
       "      <td>0.45457</td>\n",
       "      <td>0.85891</td>\n",
       "      <td>0.023002</td>\n",
       "      <td>8.9949</td>\n",
       "      <td>88.444</td>\n",
       "      <td>4.1269</td>\n",
       "      <td>12.2990</td>\n",
       "      <td>0</td>\n",
       "    </tr>\n",
       "  </tbody>\n",
       "</table>\n",
       "<p>5 rows × 61 columns</p>\n",
       "</div>"
      ],
      "text/plain": [
       "    year        X1       X2       X3      X4       X5       X6        X7  \\\n",
       "0  1year  0.209120  0.49988  0.47225  1.9447  14.7860  0.00000  0.258340   \n",
       "1  1year  0.248660  0.69592  0.26713  1.5548  -1.1523  0.00000  0.309060   \n",
       "2  1year  0.081483  0.30734  0.45879  2.4928  51.9520  0.14988  0.092704   \n",
       "3  1year  0.187320  0.61323  0.22960  1.4063  -7.3128  0.18732  0.187320   \n",
       "4  1year  0.228220  0.49794  0.35969  1.7502 -47.7170  0.00000  0.281390   \n",
       "\n",
       "        X8      X9  ...      X55       X56      X57      X58       X59  \\\n",
       "0  0.99601  1.6996  ...   2304.6  0.121300  0.42002  0.85300  0.000000   \n",
       "1  0.43695  1.3090  ...   6332.7  0.241140  0.81774  0.76599  0.694840   \n",
       "2  1.86610  1.0571  ...  20545.0  0.054015  0.14207  0.94598  0.000000   \n",
       "3  0.63070  1.1559  ...   3186.6  0.134850  0.48431  0.86515  0.124440   \n",
       "4  1.00830  1.9786  ...   7616.8  0.139320  0.45457  0.85891  0.023002   \n",
       "\n",
       "      X61      X62     X63      X64  X65  \n",
       "0  3.2732  107.350  3.4000  60.9870    0  \n",
       "1  3.9510  134.270  2.7185   5.2078    0  \n",
       "2  3.6147   86.435  4.2228   5.5497    0  \n",
       "3  4.3158  127.210  2.8692   7.8980    0  \n",
       "4  8.9949   88.444  4.1269  12.2990    0  \n",
       "\n",
       "[5 rows x 61 columns]"
      ]
     },
     "execution_count": 2,
     "metadata": {},
     "output_type": "execute_result"
    }
   ],
   "source": [
    "data = data_prep('../data/extension/csv/data.csv')\n",
    "data.head()"
   ]
  },
  {
   "cell_type": "markdown",
   "id": "f82e35b0",
   "metadata": {},
   "source": [
    "#### Train data and test data"
   ]
  },
  {
   "cell_type": "code",
   "execution_count": 3,
   "id": "6009c52c",
   "metadata": {},
   "outputs": [
    {
     "data": {
      "text/plain": [
       "((34537, 61), (8637, 61))"
      ]
     },
     "execution_count": 3,
     "metadata": {},
     "output_type": "execute_result"
    }
   ],
   "source": [
    "train_ = pd.DataFrame()\n",
    "test_ = pd.DataFrame()\n",
    "for year in data.year.unique():\n",
    "    tr, ts = train_test_split(data[data.year == year], test_size=0.2, random_state=9)\n",
    "    train_ = train_.append(tr, ignore_index=True)\n",
    "    test_ = test_.append(ts, ignore_index=True)\n",
    "\n",
    "train_.shape, test_.shape"
   ]
  },
  {
   "cell_type": "markdown",
   "id": "003dd9d5",
   "metadata": {},
   "source": [
    "#### Data standardization"
   ]
  },
  {
   "cell_type": "code",
   "execution_count": 4,
   "id": "67ba2f10",
   "metadata": {},
   "outputs": [],
   "source": [
    "categ = ['year', 'X65']\n",
    "\n",
    "scaler =  StandardScaler()\n",
    "scaler.fit(train_.drop(columns=categ))\n",
    "\n",
    "train = pd.DataFrame(scaler.transform(train_.drop(columns=categ)), \n",
    "                      columns=train_.columns.drop(categ))\n",
    "test = pd.DataFrame(scaler.transform(test_.drop(columns=categ)), \n",
    "                     columns=test_.columns.drop(categ))\n",
    "\n",
    "train = pd.concat([train, train_[categ]], axis=1)\n",
    "test = pd.concat([test, test_[categ]], axis=1)"
   ]
  },
  {
   "cell_type": "code",
   "execution_count": 5,
   "id": "4b99febc",
   "metadata": {},
   "outputs": [],
   "source": [
    "train_y = train.pop('X65')\n",
    "train_x = train.copy()\n",
    "\n",
    "test_y = test.pop('X65')\n",
    "test_x = test.copy()"
   ]
  },
  {
   "cell_type": "markdown",
   "id": "ff6ada41",
   "metadata": {},
   "source": [
    "#### Encode categorical variable : year"
   ]
  },
  {
   "cell_type": "code",
   "execution_count": 6,
   "id": "e42de2bb",
   "metadata": {},
   "outputs": [
    {
     "data": {
      "text/plain": [
       "((34537, 64), (8637, 64))"
      ]
     },
     "execution_count": 6,
     "metadata": {},
     "output_type": "execute_result"
    }
   ],
   "source": [
    "train_x = pd.get_dummies(train_x)\n",
    "test_x = pd.get_dummies(test_x)\n",
    "\n",
    "train_x.shape, test_x.shape"
   ]
  },
  {
   "cell_type": "markdown",
   "id": "0282b33f",
   "metadata": {},
   "source": [
    "### Model testing"
   ]
  },
  {
   "cell_type": "markdown",
   "id": "0a19c51d",
   "metadata": {},
   "source": [
    "12 max features because in visualisation part, we saw that only 12 was needed to reach the biggest parts of information contained in dataset"
   ]
  },
  {
   "cell_type": "markdown",
   "id": "d28ce706",
   "metadata": {},
   "source": [
    "#### Logistic regression"
   ]
  },
  {
   "cell_type": "code",
   "execution_count": 7,
   "id": "6f760457",
   "metadata": {},
   "outputs": [
    {
     "data": {
      "text/plain": [
       "array([0.95251882, 0.94991314, 0.95106414, 0.95149848, 0.95294629])"
      ]
     },
     "execution_count": 7,
     "metadata": {},
     "output_type": "execute_result"
    }
   ],
   "source": [
    "lr = LogisticRegression()\n",
    "cross_val_score(lr, train_x, train_y, cv=5)"
   ]
  },
  {
   "cell_type": "code",
   "execution_count": 8,
   "id": "ed52e1e6",
   "metadata": {},
   "outputs": [
    {
     "data": {
      "text/plain": [
       "LogisticRegression(C=2, penalty='elasticnet')"
      ]
     },
     "execution_count": 8,
     "metadata": {},
     "output_type": "execute_result"
    }
   ],
   "source": [
    "LogisticRegression(penalty='elasticnet', C=2)"
   ]
  },
  {
   "cell_type": "markdown",
   "id": "45414d5e",
   "metadata": {},
   "source": [
    "#### Linear Discriminant Analysis"
   ]
  },
  {
   "cell_type": "code",
   "execution_count": 9,
   "id": "6caa985c",
   "metadata": {},
   "outputs": [
    {
     "data": {
      "text/plain": [
       "array([0.95165026, 0.94557035, 0.94889243, 0.95034023, 0.95251194])"
      ]
     },
     "execution_count": 9,
     "metadata": {},
     "output_type": "execute_result"
    }
   ],
   "source": [
    "lda = LDA(n_components=1)\n",
    "cross_val_score(lda, train_x, train_y, cv=5)"
   ]
  },
  {
   "cell_type": "code",
   "execution_count": 10,
   "id": "dea5745a",
   "metadata": {},
   "outputs": [
    {
     "data": {
      "text/plain": [
       "array([0.9507817 , 0.95179502, 0.94918199, 0.95222238, 0.0479224 ])"
      ]
     },
     "execution_count": 10,
     "metadata": {},
     "output_type": "execute_result"
    }
   ],
   "source": [
    "cross_val_score(LDA(solver='lsqr', tol=1e-3), train_x, train_y, cv=5)"
   ]
  },
  {
   "cell_type": "markdown",
   "id": "3fc00385",
   "metadata": {},
   "source": [
    "#### Random Forest"
   ]
  },
  {
   "cell_type": "code",
   "execution_count": null,
   "id": "b5979ff0",
   "metadata": {
    "scrolled": true
   },
   "outputs": [],
   "source": [
    "rf = RandomForestClassifier()\n",
    "cross_val_score(rf, train_x, train_y, cv=5)"
   ]
  },
  {
   "cell_type": "code",
   "execution_count": null,
   "id": "9f64c34b",
   "metadata": {
    "scrolled": true
   },
   "outputs": [],
   "source": [
    "#rf = RandomForestClassifier(n_estimators=500, criterion='entropy', \n",
    "#                            max_depth=50, max_features=20, ccp_alpha=0.2, max_samples=0.7)\n",
    "#cross_val_score(rf, train_x, train_y, cv=5)"
   ]
  },
  {
   "cell_type": "markdown",
   "id": "225f6f89",
   "metadata": {},
   "source": [
    "#### Gradient Boosting"
   ]
  },
  {
   "cell_type": "code",
   "execution_count": null,
   "id": "365b6731",
   "metadata": {},
   "outputs": [],
   "source": [
    "gbm = GradientBoostingClassifier()\n",
    "cross_val_score(gbm, train_x, train_y, cv=5)"
   ]
  },
  {
   "cell_type": "code",
   "execution_count": null,
   "id": "b9bb4a32",
   "metadata": {},
   "outputs": [],
   "source": [
    "#gbm = GradientBoostingClassifier(loss='exponential', learning_rate=0.01, n_estimators=500, \n",
    "#                                 criterion='mse', max_depth=10, max_features=20, tol=1e-3, \n",
    "#                                 ccp_alpha=0.2)\n",
    "#cross_val_score(gbm, train_x, train_y, cv=5)"
   ]
  },
  {
   "cell_type": "markdown",
   "id": "93f99c28",
   "metadata": {},
   "source": [
    "#### SVM"
   ]
  },
  {
   "cell_type": "code",
   "execution_count": null,
   "id": "506442da",
   "metadata": {},
   "outputs": [],
   "source": [
    "svm = SVC()\n",
    "cross_val_score(svm, train_x, train_y, cv=5)"
   ]
  },
  {
   "cell_type": "code",
   "execution_count": null,
   "id": "159ed603",
   "metadata": {},
   "outputs": [],
   "source": [
    "svm = SVC(kernel='linear', C=2, shrinking=True, tol=1e-3)\n",
    "cross_val_score(svm, train_x, train_y, cv=5)"
   ]
  },
  {
   "cell_type": "markdown",
   "id": "f5a1694a",
   "metadata": {},
   "source": [
    "#### Bonus neural network : MultiLayer Perceptron"
   ]
  },
  {
   "cell_type": "code",
   "execution_count": null,
   "id": "a1423e10",
   "metadata": {},
   "outputs": [],
   "source": [
    "mlp = MLPClassifier()\n",
    "mlp.fit(train_x, train_y)\n",
    "mlp.score(train_x, train_y)"
   ]
  }
 ],
 "metadata": {
  "kernelspec": {
   "display_name": "Python 3",
   "language": "python",
   "name": "python3"
  },
  "language_info": {
   "codemirror_mode": {
    "name": "ipython",
    "version": 3
   },
   "file_extension": ".py",
   "mimetype": "text/x-python",
   "name": "python",
   "nbconvert_exporter": "python",
   "pygments_lexer": "ipython3",
   "version": "3.8.5"
  }
 },
 "nbformat": 4,
 "nbformat_minor": 5
}
